{
 "cells": [
  {
   "cell_type": "code",
   "execution_count": 1,
   "metadata": {},
   "outputs": [],
   "source": [
    "import cv2\n",
    "import numpy as np"
   ]
  },
  {
   "cell_type": "code",
   "execution_count": 2,
   "metadata": {},
   "outputs": [],
   "source": [
    "def showpic(newimg, title='Image'):\n",
    "    cv2.namedWindow(title, cv2.WINDOW_NORMAL)\n",
    "    cv2.imshow(title, newimg)\n",
    "    \n",
    "def closewin(ms=0):\n",
    "    cv2.waitKey(ms)\n",
    "    cv2.destroyAllWindows()"
   ]
  },
  {
   "cell_type": "code",
   "execution_count": 3,
   "metadata": {},
   "outputs": [
    {
     "data": {
      "text/plain": [
       "['tench, Tinca tinca',\n",
       " 'goldfish, Carassius auratus',\n",
       " 'great white shark, white shark, man-eater, man-eating shark, Carcharodon carcharias']"
      ]
     },
     "execution_count": 3,
     "metadata": {},
     "output_type": "execute_result"
    }
   ],
   "source": [
    "rows = open('./models/synset_words.txt').read().strip().split('\\n')\n",
    "classes = [x[x.find(' ')+1:] for x in rows]\n",
    "classes[:3]"
   ]
  },
  {
   "cell_type": "code",
   "execution_count": 4,
   "metadata": {},
   "outputs": [
    {
     "name": "stdout",
     "output_type": "stream",
     "text": [
      "99.10 % : cheetah, chetah, Acinonyx jubatus\n",
      "0.75 % : leopard, Panthera pardus\n",
      "0.07 % : jaguar, panther, Panthera onca, Felis onca\n"
     ]
    }
   ],
   "source": [
    "img = cv2.imread('./images/cheetah.jpg')\n",
    "resized = cv2.resize(img, (244,244))\n",
    "'''\n",
    "showpic(img, 'Original Image')\n",
    "showpic(resized, 'Resized Image')\n",
    "closewin()\n",
    "'''\n",
    "blob = cv2.dnn.blobFromImage(resized, 1, (244,244))\n",
    "\n",
    "net = cv2.dnn.readNetFromCaffe('./models/bvlc_googlenet.prototxt', './models/bvlc_googlenet.caffemodel')\n",
    "net.setInput(blob)\n",
    "results = net.forward()\n",
    "\n",
    "indices = np.argsort(results[0])[::-1][:3]\n",
    "for index in indices:\n",
    "    print('{:.2f} % : {}'.format(results[0][index]*100, classes[index]))\n",
    "\n",
    "\n",
    "world = classes[indices[0]].split(',')[0]\n",
    "cv2.putText(resized, world, (5,20), cv2.FONT_HERSHEY_COMPLEX_SMALL, .8, (200,0,200), 1)\n",
    "\n",
    "showpic(resized)\n",
    "closewin()"
   ]
  },
  {
   "cell_type": "code",
   "execution_count": null,
   "metadata": {},
   "outputs": [],
   "source": []
  }
 ],
 "metadata": {
  "kernelspec": {
   "display_name": "Python 3",
   "language": "python",
   "name": "python3"
  },
  "language_info": {
   "codemirror_mode": {
    "name": "ipython",
    "version": 3
   },
   "file_extension": ".py",
   "mimetype": "text/x-python",
   "name": "python",
   "nbconvert_exporter": "python",
   "pygments_lexer": "ipython3",
   "version": "3.6.10"
  }
 },
 "nbformat": 4,
 "nbformat_minor": 4
}
