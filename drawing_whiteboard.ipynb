{
 "cells": [
  {
   "cell_type": "code",
   "execution_count": 3,
   "metadata": {},
   "outputs": [],
   "source": [
    "'''\n",
    "By runnning this code a small white window will open for you for drawing.\n",
    "Use your mouse:\n",
    "keep left button down and move the mouse to draw,\n",
    "right click to change the color.\n",
    "Press Esc or close [X] button to exit.\n",
    "\n",
    "Amy Fard\n",
    "'''\n",
    "\n",
    "import cv2\n",
    "import numpy as np\n",
    "\n",
    "whiteBoard = np.ones([400,500,3], 'uint8') * 255\n",
    "color = (255,0,0)\n",
    "pressed = False\n",
    "\n",
    "\n",
    "def click(event, x, y, flag, param):\n",
    "    global whiteBoard, color, pressed\n",
    "    \n",
    "    if event == cv2.EVENT_LBUTTONDOWN:\n",
    "        pressed = True\n",
    "        cv2.circle(whiteBoard, (x,y), 5, color, -1)\n",
    "    elif event == cv2.EVENT_LBUTTONUP:\n",
    "        pressed = False\n",
    "    elif event == cv2.EVENT_MOUSEMOVE and pressed == True:\n",
    "        cv2.circle(whiteBoard, (x,y), 5, color, -1)\n",
    "    elif event == cv2.EVENT_RBUTTONDOWN:\n",
    "        if color == (255,0,0):\n",
    "            color = (0,255,0)\n",
    "        elif color == (0,255,0):\n",
    "            color = (0,0,255)\n",
    "        else:\n",
    "            color = (255,0,0)\n",
    "\n",
    "\n",
    "while True:\n",
    "    cv2.imshow('White Board', whiteBoard)\n",
    "    esc = cv2.waitKey(1)\n",
    "    cv2.setMouseCallback('White Board', click)\n",
    "    \n",
    "    if cv2.getWindowProperty('White Board', cv2.WND_PROP_VISIBLE) == 0 or (esc & 0XFF == 27):\n",
    "        break\n",
    "        \n",
    "cv2.destroyAllWindows()"
   ]
  },
  {
   "cell_type": "code",
   "execution_count": null,
   "metadata": {},
   "outputs": [],
   "source": []
  }
 ],
 "metadata": {
  "kernelspec": {
   "display_name": "Python 3",
   "language": "python",
   "name": "python3"
  },
  "language_info": {
   "codemirror_mode": {
    "name": "ipython",
    "version": 3
   },
   "file_extension": ".py",
   "mimetype": "text/x-python",
   "name": "python",
   "nbconvert_exporter": "python",
   "pygments_lexer": "ipython3",
   "version": "3.6.10"
  }
 },
 "nbformat": 4,
 "nbformat_minor": 4
}
